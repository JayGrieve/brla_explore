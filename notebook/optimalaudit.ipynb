{
 "cells": [
  {
   "cell_type": "markdown",
   "metadata": {},
   "source": [
    "# Explore optimal round schedules\n",
    "\n",
    "There are a variety of benefits to doing ballot-polling audits in distinct rounds.\n",
    "E.g., when each round is sorted by ballot location, it is more efficient to retrieve the selected ballots.\n",
    "If an audit is coordinated across multiple counties, it is helpful to have them each do their piece\n",
    "of the auditing and then do a coordinated check for whether the audit is done.\n",
    "\n",
    "But auditing in rounds means some efficiency in the overall audit is lost, because the audit doesn't have the opportunity to stop as soon as possible.\n",
    "\n",
    "This notebook has code to calculate the average number of ballots audited when it is done in rounds, and explores the effects of different round schedules.\n",
    "\n",
    "TODO:\n",
    "* Write a function to optimize over batch schedules for given margin, number of ballots, speedup\n",
    "* Optimize by overall cost (assuming costs for pulling a ballot, pulling a new batch, etc.\n",
    "* allow more generality by deriving (or calculating, if possible) functions for the stopping size at each quantile."
   ]
  },
  {
   "cell_type": "markdown",
   "metadata": {},
   "source": [
    "## Preparation"
   ]
  },
  {
   "cell_type": "markdown",
   "metadata": {},
   "source": [
    "Prepare `quantiles` dict-of-dicts based on BRAVO results.\n",
    "\n",
    "Import quantile table from BRAVO paper: https://www.usenix.org/system/files/conference/evtwote12/evtwote12-final27.pdf"
   ]
  },
  {
   "cell_type": "code",
   "execution_count": 77,
   "metadata": {},
   "outputs": [],
   "source": [
    "import math"
   ]
  },
  {
   "cell_type": "code",
   "execution_count": 1,
   "metadata": {},
   "outputs": [],
   "source": [
    "bravo_table_1 = \"\"\"True Share 25th 50th 75th 90th 99th Mean ASN\n",
    "70% 12 22 38 60 131 30 30\n",
    "65% 23 38 66 108 236 53 53\n",
    "60% 49 84 149 244 538 119 119\n",
    "58% 77 131 231 381 840 184 185\n",
    "55% 193 332 587 974 2,157 469 469\n",
    "54% 301 518 916 1,520 3,366 730 731\n",
    "53% 531 914 1,619 2,700 5,980 1,294 1,295\n",
    "52% 1,188 2,051 3637 6,053 13,455 2,900 2,902\n",
    "51% 4,725 8,157 14,486 24,149 53,640 11,556 11,562\n",
    "50.5% 18,839 32,547 57,838 96,411 214,491 46,126 46,150\"\"\""
   ]
  },
  {
   "cell_type": "code",
   "execution_count": 2,
   "metadata": {},
   "outputs": [],
   "source": [
    "quantile_list = [25, 50, 75, 90, 99]"
   ]
  },
  {
   "cell_type": "code",
   "execution_count": 3,
   "metadata": {},
   "outputs": [],
   "source": [
    "columnnames = quantile_list + [\"mean\", \"asn\"]"
   ]
  },
  {
   "cell_type": "code",
   "execution_count": 4,
   "metadata": {},
   "outputs": [
    {
     "data": {
      "text/plain": [
       "[25, 50, 75, 90, 99, 'mean', 'asn']"
      ]
     },
     "execution_count": 4,
     "metadata": {},
     "output_type": "execute_result"
    }
   ],
   "source": [
    "columnnames"
   ]
  },
  {
   "cell_type": "code",
   "execution_count": 5,
   "metadata": {},
   "outputs": [
    {
     "name": "stdout",
     "output_type": "stream",
     "text": [
      "0.4 {25: 12, 50: 22, 75: 38, 90: 60, 99: 131, 'mean': 30, 'asn': 30}\n",
      "0.3 {25: 23, 50: 38, 75: 66, 90: 108, 99: 236, 'mean': 53, 'asn': 53}\n",
      "0.2 {25: 49, 50: 84, 75: 149, 90: 244, 99: 538, 'mean': 119, 'asn': 119}\n",
      "0.16 {25: 77, 50: 131, 75: 231, 90: 381, 99: 840, 'mean': 184, 'asn': 185}\n",
      "0.1 {25: 193, 50: 332, 75: 587, 90: 974, 99: 2157, 'mean': 469, 'asn': 469}\n",
      "0.08 {25: 301, 50: 518, 75: 916, 90: 1520, 99: 3366, 'mean': 730, 'asn': 731}\n",
      "0.06 {25: 531, 50: 914, 75: 1619, 90: 2700, 99: 5980, 'mean': 1294, 'asn': 1295}\n",
      "0.04 {25: 1188, 50: 2051, 75: 3637, 90: 6053, 99: 13455, 'mean': 2900, 'asn': 2902}\n",
      "0.02 {25: 4725, 50: 8157, 75: 14486, 90: 24149, 99: 53640, 'mean': 11556, 'asn': 11562}\n",
      "0.01 {25: 18839, 50: 32547, 75: 57838, 90: 96411, 99: 214491, 'mean': 46126, 'asn': 46150}\n"
     ]
    }
   ],
   "source": [
    "# Develop and print quantiles by margin\n",
    "quantiles = {}\n",
    "\n",
    "for row in bravo_table_1.split('\\n')[1:]:\n",
    "    row = row.replace(\",\", \"\").replace(\"%\", \"\")\n",
    "    cols = row.split()\n",
    "    winner_share = float(cols[0]) / 100\n",
    "    vals = [int(v) for v in cols[1:]]\n",
    "    # print(winner_share, list(zip(columnnames, vals)))\n",
    "    \n",
    "    margin = round(winner_share - (1.0 - winner_share), 2)\n",
    "    quantiles[margin] = dict(zip(columnnames, vals))\n",
    "    print(margin, quantiles[margin])"
   ]
  },
  {
   "cell_type": "code",
   "execution_count": 119,
   "metadata": {},
   "outputs": [],
   "source": [
    "def mean_via_rounds(margin, round_quantiles, ballots=100000, batch_counting_speedup=10):\n",
    "    \"\"\"For a given list of round sizes, specified by a list of quantiles,\n",
    "    return the average number of ballots audited, as both a raw number\n",
    "    and as a multiple of the mean value for auditing with rounds of size 1.\n",
    "    \"\"\"\n",
    "\n",
    "    last_q = 0\n",
    "    total = 0.0\n",
    "    for q in round_quantiles:\n",
    "        total += (q - last_q) / 100 * quantiles[margin][q]\n",
    "        last_q = q\n",
    "\n",
    "    # Cost of full hand count in comparable units * probability that we escalate to a full hand count\n",
    "    full_hand_count_contribution = ballots / batch_counting_speedup * (1.0 - round_quantiles[-1]/100.)\n",
    "    total += full_hand_count_contribution\n",
    "\n",
    "    return (math.ceil(total), round(total / quantiles[margin]['asn'], 3))"
   ]
  },
  {
   "cell_type": "code",
   "execution_count": 114,
   "metadata": {},
   "outputs": [],
   "source": [
    "fmt = 'Multiplier: {excess:.3f}, ballots: {avg_ballots:.0f} for {margin:.1%} margin, round schedule: {roundqs}'\n",
    "def show_multipliers(margin, round_schedules, ballots=100000, batch_counting_speedup=10):\n",
    "\n",
    "    print(\"Multipliers for election with %.0f ballots, %.1f speedup per ballot for full hand count via %.2f margin\" %\n",
    "        (ballots, batch_counting_speedup, margin))\n",
    "    avg_ballots, excess = quantiles[margin][\"asn\"], 1.0\n",
    "    roundqs = \"one ballot per round\"\n",
    "    print(fmt.format(**locals()))\n",
    "    for roundqs in round_schedules:\n",
    "        avg_ballots, excess = mean_via_rounds(margin, roundqs, ballots, batch_counting_speedup)\n",
    "        print(fmt.format(**locals()))\n",
    "        # print(f'Multiplier: {excess:.3f}, ballots: {avg_ballots:.0f} for {margin:.1%}, '\n",
    "        #    f'round schedule {roundqs}')"
   ]
  },
  {
   "cell_type": "code",
   "execution_count": 80,
   "metadata": {},
   "outputs": [],
   "source": [
    "def grid(margin):\n",
    "    for quantile in [25, 50, 75, 90]:\n",
    "        qs90 = [quantile, 90]\n",
    "        qs99 = [quantile, 99]\n",
    "        print(\"%s %s %s %s\" % (qs90, mean_via_rounds(margin, qs90), qs99, mean_via_rounds(margin, qs99)))"
   ]
  },
  {
   "cell_type": "code",
   "execution_count": 120,
   "metadata": {},
   "outputs": [
    {
     "name": "stdout",
     "output_type": "stream",
     "text": [
      "[25, 90] (2064, 2.823) [25, 99] (2667, 3.647)\n",
      "[50, 90] (1867, 2.554) [50, 99] (2009, 2.747)\n",
      "[75, 90] (1915, 2.62) [75, 99] (1595, 2.182)\n",
      "[90, 90] (2368, 3.239) [90, 99] (1771, 2.423)\n"
     ]
    }
   ],
   "source": [
    "grid(0.08)"
   ]
  },
  {
   "cell_type": "code",
   "execution_count": 88,
   "metadata": {},
   "outputs": [
    {
     "name": "stdout",
     "output_type": "stream",
     "text": [
      "[25, 90] (2064, 2.823) [25, 99] (2667, 3.647)\n",
      "[50, 90] (1867, 2.554) [50, 99] (2009, 2.747)\n",
      "[75, 90] (1915, 2.62) [75, 99] (1595, 2.182)\n",
      "[90, 90] (2368, 3.239) [90, 99] (1771, 2.423)\n"
     ]
    }
   ],
   "source": [
    "grid(0.08)"
   ]
  },
  {
   "cell_type": "code",
   "execution_count": 89,
   "metadata": {},
   "outputs": [
    {
     "name": "stdout",
     "output_type": "stream",
     "text": [
      "[25, 90] (5232, 1.803) [25, 99] (10354, 3.568)\n",
      "[50, 90] (4447, 1.532) [50, 99] (7719, 2.66)\n",
      "[75, 90] (4636, 1.597) [75, 99] (6057, 2.087)\n",
      "[90, 90] (6448, 2.222) [90, 99] (6759, 2.329)\n"
     ]
    }
   ],
   "source": [
    "grid(0.04)"
   ]
  },
  {
   "cell_type": "code",
   "execution_count": 90,
   "metadata": {},
   "outputs": [
    {
     "name": "stdout",
     "output_type": "stream",
     "text": [
      "[25, 90] (17879, 1.546) [25, 99] (40975, 3.544)\n",
      "[50, 90] (14739, 1.275) [50, 99] (30463, 2.635)\n",
      "[75, 90] (15487, 1.339) [75, 99] (23839, 2.062)\n",
      "[90, 90] (22735, 1.966) [90, 99] (26662, 2.306)\n"
     ]
    }
   ],
   "source": [
    "grid(0.02)"
   ]
  },
  {
   "cell_type": "code",
   "execution_count": 91,
   "metadata": {},
   "outputs": [
    {
     "name": "stdout",
     "output_type": "stream",
     "text": [
      "[25, 90] (68377, 1.482) [25, 99] (163534, 3.544)\n",
      "[50, 90] (55838, 1.21) [50, 99] (121475, 2.632)\n",
      "[75, 90] (58841, 1.275) [75, 99] (94957, 2.058)\n",
      "[90, 90] (87770, 1.902) [90, 99] (106175, 2.301)\n"
     ]
    }
   ],
   "source": [
    "grid(0.01)"
   ]
  },
  {
   "cell_type": "markdown",
   "metadata": {},
   "source": [
    "## Show average audit sizes for several round schedules and two margins"
   ]
  },
  {
   "cell_type": "code",
   "execution_count": 122,
   "metadata": {},
   "outputs": [],
   "source": [
    "# Define a number of round schedules to study.\n",
    "# Each one, on a single line here, specifies a sequence of round sizes for a single audit.\n",
    "# Define round sizes by the percentage (quantile) of audits for which the audit is expected to succeed.\n",
    "# I.e. for the round schedule [50, 90, 99], with a margin of 10%, the round sizes (from the BRAVO table)\n",
    "# would be determined to be [332, 974, 2157]\n",
    "round_schedules = [\n",
    "    [25, 50, 75, 90, 99],\n",
    "    [50, 75, 90, 99],\n",
    "    [50, 90, 99],\n",
    "    [75, 90, 99],\n",
    "    [25, 50, 75, 99],\n",
    "    [25, 75, 99],\n",
    "    [90, 99],\n",
    "    [75, 99],\n",
    "    [50, 90],\n",
    "    [50, 75],\n",
    "    [50],\n",
    "    [25],\n",
    "]"
   ]
  },
  {
   "cell_type": "code",
   "execution_count": 123,
   "metadata": {},
   "outputs": [
    {
     "name": "stdout",
     "output_type": "stream",
     "text": [
      "Multipliers for election with 100000 ballots, 10.0 speedup per ballot for full hand count via 0.10 margin\n",
      "Multiplier: 1.000, ballots: 469 for 10.0% margin, round schedule: one ballot per round\n",
      "Multiplier: 1.531, ballots: 719 for 10.0% margin, round schedule: [25, 50, 75, 90, 99]\n",
      "Multiplier: 1.606, ballots: 753 for 10.0% margin, round schedule: [50, 75, 90, 99]\n",
      "Multiplier: 1.812, ballots: 850 for 10.0% margin, round schedule: [50, 90, 99]\n",
      "Multiplier: 1.877, ballots: 881 for 10.0% margin, round schedule: [75, 90, 99]\n",
      "Multiplier: 1.910, ballots: 896 for 10.0% margin, round schedule: [25, 50, 75, 99]\n",
      "Multiplier: 2.046, ballots: 960 for 10.0% margin, round schedule: [25, 75, 99]\n",
      "Multiplier: 2.496, ballots: 1171 for 10.0% margin, round schedule: [90, 99]\n",
      "Multiplier: 2.256, ballots: 1058 for 10.0% margin, round schedule: [75, 99]\n",
      "Multiplier: 3.317, ballots: 1556 for 10.0% margin, round schedule: [50, 90]\n",
      "Multiplier: 5.997, ballots: 2813 for 10.0% margin, round schedule: [50, 75]\n",
      "Multiplier: 11.015, ballots: 5166 for 10.0% margin, round schedule: [50]\n",
      "Multiplier: 16.094, ballots: 7549 for 10.0% margin, round schedule: [25]\n"
     ]
    }
   ],
   "source": [
    "show_multipliers(0.1, round_schedules)"
   ]
  },
  {
   "cell_type": "code",
   "execution_count": 62,
   "metadata": {},
   "outputs": [
    {
     "name": "stdout",
     "output_type": "stream",
     "text": [
      "Multipliers for election with 100000 ballots, 10.0 speedup per ballot for full hand count via 0.10 margin\n",
      "Multiplier: 1.000, ballots: 469 for 10.0% margin, round schedule: one ballot per round\n",
      "Multiplier: 1.531, ballots: 718 for 10.0% margin, round schedule: [25, 50, 75, 90, 99]\n",
      "Multiplier: 1.606, ballots: 753 for 10.0% margin, round schedule: [50, 75, 90, 99]\n",
      "Multiplier: 1.812, ballots: 850 for 10.0% margin, round schedule: [50, 90, 99]\n",
      "Multiplier: 1.877, ballots: 880 for 10.0% margin, round schedule: [75, 90, 99]\n",
      "Multiplier: 1.910, ballots: 896 for 10.0% margin, round schedule: [25, 50, 75, 99]\n",
      "Multiplier: 2.046, ballots: 959 for 10.0% margin, round schedule: [25, 75, 99]\n",
      "Multiplier: 2.496, ballots: 1171 for 10.0% margin, round schedule: [90, 99]\n"
     ]
    }
   ],
   "source": [
    "show_multipliers(0.1, round_schedules)"
   ]
  },
  {
   "cell_type": "code",
   "execution_count": 35,
   "metadata": {},
   "outputs": [
    {
     "name": "stdout",
     "output_type": "stream",
     "text": [
      "Multiplier: 1.000, ballots: 469 for 10.0% margin, round schedule: one ballot per round\n",
      "Multiplier: 1.318, ballots: 618 for 10.0% margin, round schedule: [25, 50, 75, 90, 99]\n",
      "Multiplier: 1.392, ballots: 653 for 10.0% margin, round schedule: [50, 75, 90, 99]\n",
      "Multiplier: 1.599, ballots: 750 for 10.0% margin, round schedule: [50, 90, 99]\n",
      "Multiplier: 1.664, ballots: 780 for 10.0% margin, round schedule: [75, 90, 99]\n",
      "Multiplier: 1.697, ballots: 796 for 10.0% margin, round schedule: [25, 50, 75, 99]\n",
      "Multiplier: 1.832, ballots: 859 for 10.0% margin, round schedule: [25, 75, 99]\n",
      "Multiplier: 2.283, ballots: 1071 for 10.0% margin, round schedule: [90, 99]\n"
     ]
    }
   ],
   "source": [
    "# ignoring full hand count\n",
    "show_multipliers(0.1, round_schedules)"
   ]
  },
  {
   "cell_type": "code",
   "execution_count": 97,
   "metadata": {},
   "outputs": [
    {
     "name": "stdout",
     "output_type": "stream",
     "text": [
      "Multipliers for election with 100000 ballots, 10.0 speedup per ballot for full hand count via 0.04 margin\n",
      "Multiplier: 1.000, ballots: 2902 for 4.0% margin, round schedule: one ballot per round\n",
      "Multiplier: 1.357, ballots: 3938 for 4.0% margin, round schedule: [25, 50, 75, 90, 99]\n",
      "Multiplier: 1.431, ballots: 4154 for 4.0% margin, round schedule: [50, 75, 90, 99]\n",
      "Multiplier: 1.639, ballots: 4758 for 4.0% margin, round schedule: [50, 90, 99]\n",
      "Multiplier: 1.705, ballots: 4947 for 4.0% margin, round schedule: [75, 90, 99]\n",
      "Multiplier: 1.740, ballots: 5049 for 4.0% margin, round schedule: [25, 50, 75, 99]\n",
      "Multiplier: 1.876, ballots: 5445 for 4.0% margin, round schedule: [25, 75, 99]\n",
      "Multiplier: 2.329, ballots: 6759 for 4.0% margin, round schedule: [90, 99]\n",
      "Multiplier: 2.087, ballots: 6057 for 4.0% margin, round schedule: [75, 99]\n",
      "Multiplier: 1.532, ballots: 4447 for 4.0% margin, round schedule: [50, 90]\n"
     ]
    }
   ],
   "source": [
    "show_multipliers(0.04, round_schedules)"
   ]
  },
  {
   "cell_type": "code",
   "execution_count": 66,
   "metadata": {},
   "outputs": [
    {
     "name": "stdout",
     "output_type": "stream",
     "text": [
      "Multipliers for election with 100000 ballots, 10.0 speedup per ballot for full hand count via 0.04 margin\n",
      "Multiplier: 1.000, ballots: 2902 for 4.0% margin, round schedule: one ballot per round\n",
      "Multiplier: 1.357, ballots: 3938 for 4.0% margin, round schedule: [25, 50, 75, 90, 99]\n",
      "Multiplier: 1.431, ballots: 4154 for 4.0% margin, round schedule: [50, 75, 90, 99]\n",
      "Multiplier: 1.639, ballots: 4758 for 4.0% margin, round schedule: [50, 90, 99]\n",
      "Multiplier: 1.705, ballots: 4947 for 4.0% margin, round schedule: [75, 90, 99]\n",
      "Multiplier: 1.740, ballots: 5048 for 4.0% margin, round schedule: [25, 50, 75, 99]\n",
      "Multiplier: 1.876, ballots: 5445 for 4.0% margin, round schedule: [25, 75, 99]\n",
      "Multiplier: 2.329, ballots: 6759 for 4.0% margin, round schedule: [90, 99]\n"
     ]
    }
   ],
   "source": [
    "show_multipliers(0.04, round_schedules)"
   ]
  },
  {
   "cell_type": "code",
   "execution_count": 102,
   "metadata": {},
   "outputs": [
    {
     "name": "stdout",
     "output_type": "stream",
     "text": [
      "Multipliers for election with 100000 ballots, 10.0 speedup per ballot for full hand count via 0.01 margin\n",
      "Multiplier: 1.000, ballots: 46150 for 1.0% margin, round schedule: one ballot per round\n",
      "Multiplier: 1.326, ballots: 61172 for 1.0% margin, round schedule: [25, 50, 75, 90, 99]\n",
      "Multiplier: 1.400, ballots: 64599 for 1.0% margin, round schedule: [50, 75, 90, 99]\n",
      "Multiplier: 1.609, ballots: 74243 for 1.0% margin, round schedule: [50, 90, 99]\n",
      "Multiplier: 1.674, ballots: 77245 for 1.0% margin, round schedule: [75, 90, 99]\n",
      "Multiplier: 1.709, ballots: 78884 for 1.0% margin, round schedule: [25, 50, 75, 99]\n",
      "Multiplier: 1.846, ballots: 85207 for 1.0% margin, round schedule: [25, 75, 99]\n",
      "Multiplier: 2.301, ballots: 106175 for 1.0% margin, round schedule: [90, 99]\n",
      "Multiplier: 2.058, ballots: 94957 for 1.0% margin, round schedule: [75, 99]\n",
      "Multiplier: 1.210, ballots: 55838 for 1.0% margin, round schedule: [50, 90]\n",
      "Multiplier: 0.720, ballots: 33233 for 1.0% margin, round schedule: [50, 75]\n",
      "Multiplier: 0.461, ballots: 21274 for 1.0% margin, round schedule: [50]\n"
     ]
    }
   ],
   "source": [
    "show_multipliers(0.01, round_schedules)"
   ]
  },
  {
   "cell_type": "code",
   "execution_count": 124,
   "metadata": {},
   "outputs": [
    {
     "name": "stdout",
     "output_type": "stream",
     "text": [
      "Multipliers for election with 1000000 ballots, 10.0 speedup per ballot for full hand count via 0.01 margin\n",
      "Multiplier: 1.000, ballots: 46150 for 1.0% margin, round schedule: one ballot per round\n",
      "Multiplier: 1.345, ballots: 62072 for 1.0% margin, round schedule: [25, 50, 75, 90, 99]\n",
      "Multiplier: 1.419, ballots: 65499 for 1.0% margin, round schedule: [50, 75, 90, 99]\n",
      "Multiplier: 1.628, ballots: 75143 for 1.0% margin, round schedule: [50, 90, 99]\n",
      "Multiplier: 1.693, ballots: 78145 for 1.0% margin, round schedule: [75, 90, 99]\n",
      "Multiplier: 1.729, ballots: 79784 for 1.0% margin, round schedule: [25, 50, 75, 99]\n",
      "Multiplier: 1.866, ballots: 86107 for 1.0% margin, round schedule: [25, 75, 99]\n",
      "Multiplier: 2.320, ballots: 107075 for 1.0% margin, round schedule: [90, 99]\n",
      "Multiplier: 2.077, ballots: 95857 for 1.0% margin, round schedule: [75, 99]\n",
      "Multiplier: 1.405, ballots: 64838 for 1.0% margin, round schedule: [50, 90]\n",
      "Multiplier: 1.208, ballots: 55733 for 1.0% margin, round schedule: [50, 75]\n",
      "Multiplier: 1.436, ballots: 66274 for 1.0% margin, round schedule: [50]\n",
      "Multiplier: 1.727, ballots: 79710 for 1.0% margin, round schedule: [25]\n"
     ]
    }
   ],
   "source": [
    "show_multipliers(0.01, round_schedules, ballots=1000000)"
   ]
  },
  {
   "cell_type": "code",
   "execution_count": 63,
   "metadata": {},
   "outputs": [
    {
     "name": "stdout",
     "output_type": "stream",
     "text": [
      "Multipliers for election with 100000 ballots, 10.0 speedup per ballot for full hand count via 0.01 margin\n",
      "Multiplier: 1.000, ballots: 46150 for 1.0% margin, round schedule: one ballot per round\n",
      "Multiplier: 1.326, ballots: 61172 for 1.0% margin, round schedule: [25, 50, 75, 90, 99]\n",
      "Multiplier: 1.400, ballots: 64599 for 1.0% margin, round schedule: [50, 75, 90, 99]\n",
      "Multiplier: 1.609, ballots: 74242 for 1.0% margin, round schedule: [50, 90, 99]\n",
      "Multiplier: 1.674, ballots: 77244 for 1.0% margin, round schedule: [75, 90, 99]\n",
      "Multiplier: 1.709, ballots: 78884 for 1.0% margin, round schedule: [25, 50, 75, 99]\n",
      "Multiplier: 1.846, ballots: 85207 for 1.0% margin, round schedule: [25, 75, 99]\n",
      "Multiplier: 2.301, ballots: 106174 for 1.0% margin, round schedule: [90, 99]\n"
     ]
    }
   ],
   "source": [
    "show_multipliers(0.01, round_schedules)"
   ]
  },
  {
   "cell_type": "markdown",
   "metadata": {},
   "source": [
    "## Work in progress: explore fitting a curve to BRAVO simulation results"
   ]
  },
  {
   "cell_type": "code",
   "execution_count": 11,
   "metadata": {},
   "outputs": [],
   "source": [
    "import pandas as pd\n",
    "from scipy.optimize import curve_fit"
   ]
  },
  {
   "cell_type": "code",
   "execution_count": 12,
   "metadata": {},
   "outputs": [],
   "source": [
    "df = pd.DataFrame(quantiles)"
   ]
  },
  {
   "cell_type": "code",
   "execution_count": 13,
   "metadata": {},
   "outputs": [
    {
     "data": {
      "text/html": [
       "<div>\n",
       "<style scoped>\n",
       "    .dataframe tbody tr th:only-of-type {\n",
       "        vertical-align: middle;\n",
       "    }\n",
       "\n",
       "    .dataframe tbody tr th {\n",
       "        vertical-align: top;\n",
       "    }\n",
       "\n",
       "    .dataframe thead th {\n",
       "        text-align: right;\n",
       "    }\n",
       "</style>\n",
       "<table border=\"1\" class=\"dataframe\">\n",
       "  <thead>\n",
       "    <tr style=\"text-align: right;\">\n",
       "      <th></th>\n",
       "      <th>0.01</th>\n",
       "      <th>0.02</th>\n",
       "      <th>0.04</th>\n",
       "      <th>0.06</th>\n",
       "      <th>0.08</th>\n",
       "      <th>0.1</th>\n",
       "      <th>0.16</th>\n",
       "      <th>0.2</th>\n",
       "      <th>0.3</th>\n",
       "      <th>0.4</th>\n",
       "    </tr>\n",
       "  </thead>\n",
       "  <tbody>\n",
       "    <tr>\n",
       "      <th>25</th>\n",
       "      <td>18839</td>\n",
       "      <td>4725</td>\n",
       "      <td>1188</td>\n",
       "      <td>531</td>\n",
       "      <td>301</td>\n",
       "      <td>193</td>\n",
       "      <td>77</td>\n",
       "      <td>49</td>\n",
       "      <td>23</td>\n",
       "      <td>12</td>\n",
       "    </tr>\n",
       "    <tr>\n",
       "      <th>50</th>\n",
       "      <td>32547</td>\n",
       "      <td>8157</td>\n",
       "      <td>2051</td>\n",
       "      <td>914</td>\n",
       "      <td>518</td>\n",
       "      <td>332</td>\n",
       "      <td>131</td>\n",
       "      <td>84</td>\n",
       "      <td>38</td>\n",
       "      <td>22</td>\n",
       "    </tr>\n",
       "    <tr>\n",
       "      <th>75</th>\n",
       "      <td>57838</td>\n",
       "      <td>14486</td>\n",
       "      <td>3637</td>\n",
       "      <td>1619</td>\n",
       "      <td>916</td>\n",
       "      <td>587</td>\n",
       "      <td>231</td>\n",
       "      <td>149</td>\n",
       "      <td>66</td>\n",
       "      <td>38</td>\n",
       "    </tr>\n",
       "    <tr>\n",
       "      <th>90</th>\n",
       "      <td>96411</td>\n",
       "      <td>24149</td>\n",
       "      <td>6053</td>\n",
       "      <td>2700</td>\n",
       "      <td>1520</td>\n",
       "      <td>974</td>\n",
       "      <td>381</td>\n",
       "      <td>244</td>\n",
       "      <td>108</td>\n",
       "      <td>60</td>\n",
       "    </tr>\n",
       "    <tr>\n",
       "      <th>99</th>\n",
       "      <td>214491</td>\n",
       "      <td>53640</td>\n",
       "      <td>13455</td>\n",
       "      <td>5980</td>\n",
       "      <td>3366</td>\n",
       "      <td>2157</td>\n",
       "      <td>840</td>\n",
       "      <td>538</td>\n",
       "      <td>236</td>\n",
       "      <td>131</td>\n",
       "    </tr>\n",
       "    <tr>\n",
       "      <th>mean</th>\n",
       "      <td>46126</td>\n",
       "      <td>11556</td>\n",
       "      <td>2900</td>\n",
       "      <td>1294</td>\n",
       "      <td>730</td>\n",
       "      <td>469</td>\n",
       "      <td>184</td>\n",
       "      <td>119</td>\n",
       "      <td>53</td>\n",
       "      <td>30</td>\n",
       "    </tr>\n",
       "    <tr>\n",
       "      <th>asn</th>\n",
       "      <td>46150</td>\n",
       "      <td>11562</td>\n",
       "      <td>2902</td>\n",
       "      <td>1295</td>\n",
       "      <td>731</td>\n",
       "      <td>469</td>\n",
       "      <td>185</td>\n",
       "      <td>119</td>\n",
       "      <td>53</td>\n",
       "      <td>30</td>\n",
       "    </tr>\n",
       "  </tbody>\n",
       "</table>\n",
       "</div>"
      ],
      "text/plain": [
       "        0.01   0.02   0.04  0.06  0.08  0.10  0.16  0.20  0.30  0.40\n",
       "25     18839   4725   1188   531   301   193    77    49    23    12\n",
       "50     32547   8157   2051   914   518   332   131    84    38    22\n",
       "75     57838  14486   3637  1619   916   587   231   149    66    38\n",
       "90     96411  24149   6053  2700  1520   974   381   244   108    60\n",
       "99    214491  53640  13455  5980  3366  2157   840   538   236   131\n",
       "mean   46126  11556   2900  1294   730   469   184   119    53    30\n",
       "asn    46150  11562   2902  1295   731   469   185   119    53    30"
      ]
     },
     "execution_count": 13,
     "metadata": {},
     "output_type": "execute_result"
    }
   ],
   "source": [
    "df"
   ]
  },
  {
   "cell_type": "code",
   "execution_count": 135,
   "metadata": {},
   "outputs": [
    {
     "data": {
      "image/png": "[encoded data removed]",
      "text/plain": [
       "<matplotlib.figure.Figure at 0x7f1ee0644588>"
      ]
     },
     "metadata": {
      "needs_background": "light"
     },
     "output_type": "display_data"
    }
   ],
   "source": [
    "df.ix[:5].plot();"
   ]
  },
  {
   "cell_type": "code",
   "execution_count": 14,
   "metadata": {},
   "outputs": [
    {
     "data": {
      "text/html": [
       "<div>\n",
       "<style scoped>\n",
       "    .dataframe tbody tr th:only-of-type {\n",
       "        vertical-align: middle;\n",
       "    }\n",
       "\n",
       "    .dataframe tbody tr th {\n",
       "        vertical-align: top;\n",
       "    }\n",
       "\n",
       "    .dataframe thead th {\n",
       "        text-align: right;\n",
       "    }\n",
       "</style>\n",
       "<table border=\"1\" class=\"dataframe\">\n",
       "  <thead>\n",
       "    <tr style=\"text-align: right;\">\n",
       "      <th></th>\n",
       "      <th>25</th>\n",
       "      <th>50</th>\n",
       "      <th>75</th>\n",
       "      <th>90</th>\n",
       "      <th>99</th>\n",
       "      <th>mean</th>\n",
       "      <th>asn</th>\n",
       "    </tr>\n",
       "  </thead>\n",
       "  <tbody>\n",
       "    <tr>\n",
       "      <th>0.01</th>\n",
       "      <td>18839</td>\n",
       "      <td>32547</td>\n",
       "      <td>57838</td>\n",
       "      <td>96411</td>\n",
       "      <td>214491</td>\n",
       "      <td>46126</td>\n",
       "      <td>46150</td>\n",
       "    </tr>\n",
       "    <tr>\n",
       "      <th>0.02</th>\n",
       "      <td>4725</td>\n",
       "      <td>8157</td>\n",
       "      <td>14486</td>\n",
       "      <td>24149</td>\n",
       "      <td>53640</td>\n",
       "      <td>11556</td>\n",
       "      <td>11562</td>\n",
       "    </tr>\n",
       "    <tr>\n",
       "      <th>0.04</th>\n",
       "      <td>1188</td>\n",
       "      <td>2051</td>\n",
       "      <td>3637</td>\n",
       "      <td>6053</td>\n",
       "      <td>13455</td>\n",
       "      <td>2900</td>\n",
       "      <td>2902</td>\n",
       "    </tr>\n",
       "    <tr>\n",
       "      <th>0.06</th>\n",
       "      <td>531</td>\n",
       "      <td>914</td>\n",
       "      <td>1619</td>\n",
       "      <td>2700</td>\n",
       "      <td>5980</td>\n",
       "      <td>1294</td>\n",
       "      <td>1295</td>\n",
       "    </tr>\n",
       "    <tr>\n",
       "      <th>0.08</th>\n",
       "      <td>301</td>\n",
       "      <td>518</td>\n",
       "      <td>916</td>\n",
       "      <td>1520</td>\n",
       "      <td>3366</td>\n",
       "      <td>730</td>\n",
       "      <td>731</td>\n",
       "    </tr>\n",
       "    <tr>\n",
       "      <th>0.10</th>\n",
       "      <td>193</td>\n",
       "      <td>332</td>\n",
       "      <td>587</td>\n",
       "      <td>974</td>\n",
       "      <td>2157</td>\n",
       "      <td>469</td>\n",
       "      <td>469</td>\n",
       "    </tr>\n",
       "    <tr>\n",
       "      <th>0.16</th>\n",
       "      <td>77</td>\n",
       "      <td>131</td>\n",
       "      <td>231</td>\n",
       "      <td>381</td>\n",
       "      <td>840</td>\n",
       "      <td>184</td>\n",
       "      <td>185</td>\n",
       "    </tr>\n",
       "    <tr>\n",
       "      <th>0.20</th>\n",
       "      <td>49</td>\n",
       "      <td>84</td>\n",
       "      <td>149</td>\n",
       "      <td>244</td>\n",
       "      <td>538</td>\n",
       "      <td>119</td>\n",
       "      <td>119</td>\n",
       "    </tr>\n",
       "    <tr>\n",
       "      <th>0.30</th>\n",
       "      <td>23</td>\n",
       "      <td>38</td>\n",
       "      <td>66</td>\n",
       "      <td>108</td>\n",
       "      <td>236</td>\n",
       "      <td>53</td>\n",
       "      <td>53</td>\n",
       "    </tr>\n",
       "    <tr>\n",
       "      <th>0.40</th>\n",
       "      <td>12</td>\n",
       "      <td>22</td>\n",
       "      <td>38</td>\n",
       "      <td>60</td>\n",
       "      <td>131</td>\n",
       "      <td>30</td>\n",
       "      <td>30</td>\n",
       "    </tr>\n",
       "  </tbody>\n",
       "</table>\n",
       "</div>"
      ],
      "text/plain": [
       "         25     50     75     90      99   mean    asn\n",
       "0.01  18839  32547  57838  96411  214491  46126  46150\n",
       "0.02   4725   8157  14486  24149   53640  11556  11562\n",
       "0.04   1188   2051   3637   6053   13455   2900   2902\n",
       "0.06    531    914   1619   2700    5980   1294   1295\n",
       "0.08    301    518    916   1520    3366    730    731\n",
       "0.10    193    332    587    974    2157    469    469\n",
       "0.16     77    131    231    381     840    184    185\n",
       "0.20     49     84    149    244     538    119    119\n",
       "0.30     23     38     66    108     236     53     53\n",
       "0.40     12     22     38     60     131     30     30"
      ]
     },
     "execution_count": 14,
     "metadata": {},
     "output_type": "execute_result"
    }
   ],
   "source": [
    "df.T"
   ]
  },
  {
   "cell_type": "code",
   "execution_count": 134,
   "metadata": {},
   "outputs": [
    {
     "data": {
      "image/png": "[encoded data removed]",
      "text/plain": [
       "<matplotlib.figure.Figure at 0x7f1ee0699b70>"
      ]
     },
     "metadata": {
      "needs_background": "light"
     },
     "output_type": "display_data"
    }
   ],
   "source": [
    "df.ix[:3].T.plot();"
   ]
  },
  {
   "cell_type": "code",
   "execution_count": 133,
   "metadata": {},
   "outputs": [
    {
     "data": {
      "image/png": "[encoded data removed]",
      "text/plain": [
       "<matplotlib.figure.Figure at 0x7f1ee0793c88>"
      ]
     },
     "metadata": {
      "needs_background": "light"
     },
     "output_type": "display_data"
    }
   ],
   "source": [
    "df.ix[:3].T.plot();"
   ]
  },
  {
   "cell_type": "code",
   "execution_count": 128,
   "metadata": {},
   "outputs": [],
   "source": [
    "%matplotlib inline"
   ]
  },
  {
   "cell_type": "code",
   "execution_count": 15,
   "metadata": {},
   "outputs": [],
   "source": [
    "# curve_fit(....)"
   ]
  }
 ],
 "metadata": {
  "kernelspec": {
   "display_name": "Python 3",
   "language": "python",
   "name": "python3"
  },
  "language_info": {
   "name": ""
  }
 },
 "nbformat": 4,
 "nbformat_minor": 2
}
