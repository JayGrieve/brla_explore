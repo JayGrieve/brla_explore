{
 "cells": [
  {
   "cell_type": "markdown",
   "metadata": {},
   "source": [
    "# Explore optimal round schedules\n",
    "\n",
    "There are many benefits to doing ballot-polling audits in distinct rounds.\n",
    "E.g., when each round is sorted by ballot location, it is more efficient to retrieve the selected ballots.\n",
    "\n",
    "But some efficiency in the overall audit is lost, because the audit doesn't have the opportunity to stop as soon as possible.\n",
    "\n",
    "This notebook has code to calculate the average number of ballots audited when it is done in rounds, and explores the effects of different round schedules.\n",
    "\n",
    "TODO:\n",
    "* Try different margins\n",
    "* **Bug fix**: incorporate cost of final escallation to full hand count, for a given total number of ballots. *Until then, probably best to allways incorportate 99th percentile.*\n",
    "* Optimize by overall cost (assuming costs for pulling a ballot, pulling a new batch, etc.\n",
    "* allow more generality by deriving (or calculating, if possible) functions for the stopping size at each quantile."
   ]
  },
  {
   "cell_type": "markdown",
   "metadata": {},
   "source": [
    "Prepare `quantiles` dict-of-dicts based on BRAVO results.\n",
    "\n",
    "Import quantile table from BRAVO paper: https://www.usenix.org/system/files/conference/evtwote12/evtwote12-final27.pdf"
   ]
  },
  {
   "cell_type": "code",
   "execution_count": 1,
   "metadata": {},
   "outputs": [],
   "source": [
    "bravo_table_1 = \"\"\"True Share 25th 50th 75th 90th 99th Mean ASN\n",
    "70% 12 22 38 60 131 30 30\n",
    "65% 23 38 66 108 236 53 53\n",
    "60% 49 84 149 244 538 119 119\n",
    "58% 77 131 231 381 840 184 185\n",
    "55% 193 332 587 974 2,157 469 469\n",
    "54% 301 518 916 1,520 3,366 730 731\n",
    "53% 531 914 1,619 2,700 5,980 1,294 1,295\n",
    "52% 1,188 2,051 3637 6,053 13,455 2,900 2,902\n",
    "51% 4,725 8,157 14,486 24,149 53,640 11,556 11,562\n",
    "50.5% 18,839 32,547 57,838 96,411 214,491 46,126 46,150\"\"\""
   ]
  },
  {
   "cell_type": "code",
   "execution_count": 2,
   "metadata": {},
   "outputs": [],
   "source": [
    "quantile_list = [25, 50, 75, 90, 99]"
   ]
  },
  {
   "cell_type": "code",
   "execution_count": 3,
   "metadata": {},
   "outputs": [],
   "source": [
    "columnnames = quantile_list + [\"mean\", \"asn\"]"
   ]
  },
  {
   "cell_type": "code",
   "execution_count": 4,
   "metadata": {},
   "outputs": [
    {
     "data": {
      "text/plain": [
       "[25, 50, 75, 90, 99, 'mean', 'asn']"
      ]
     },
     "execution_count": 4,
     "metadata": {},
     "output_type": "execute_result"
    }
   ],
   "source": [
    "columnnames"
   ]
  },
  {
   "cell_type": "code",
   "execution_count": 5,
   "metadata": {},
   "outputs": [
    {
     "name": "stdout",
     "output_type": "stream",
     "text": [
      "0.4 {25: 12, 50: 22, 75: 38, 90: 60, 99: 131, 'mean': 30, 'asn': 30}\n",
      "0.3 {25: 23, 50: 38, 75: 66, 90: 108, 99: 236, 'mean': 53, 'asn': 53}\n",
      "0.2 {25: 49, 50: 84, 75: 149, 90: 244, 99: 538, 'mean': 119, 'asn': 119}\n",
      "0.16 {25: 77, 50: 131, 75: 231, 90: 381, 99: 840, 'mean': 184, 'asn': 185}\n",
      "0.1 {25: 193, 50: 332, 75: 587, 90: 974, 99: 2157, 'mean': 469, 'asn': 469}\n",
      "0.08 {25: 301, 50: 518, 75: 916, 90: 1520, 99: 3366, 'mean': 730, 'asn': 731}\n",
      "0.06 {25: 531, 50: 914, 75: 1619, 90: 2700, 99: 5980, 'mean': 1294, 'asn': 1295}\n",
      "0.04 {25: 1188, 50: 2051, 75: 3637, 90: 6053, 99: 13455, 'mean': 2900, 'asn': 2902}\n",
      "0.02 {25: 4725, 50: 8157, 75: 14486, 90: 24149, 99: 53640, 'mean': 11556, 'asn': 11562}\n",
      "0.01 {25: 18839, 50: 32547, 75: 57838, 90: 96411, 99: 214491, 'mean': 46126, 'asn': 46150}\n"
     ]
    }
   ],
   "source": [
    "# Develop and print quantiles by margin\n",
    "quantiles = {}\n",
    "\n",
    "for row in bravo_table_1.split('\\n')[1:]:\n",
    "    row = row.replace(\",\", \"\").replace(\"%\", \"\")\n",
    "    cols = row.split()\n",
    "    winner_share = float(cols[0]) / 100\n",
    "    vals = [int(v) for v in cols[1:]]\n",
    "    # print(winner_share, list(zip(columnnames, vals)))\n",
    "    \n",
    "    margin = round(winner_share - (1.0 - winner_share), 2)\n",
    "    quantiles[margin] = dict(zip(columnnames, vals))\n",
    "    print(margin, quantiles[margin])"
   ]
  },
  {
   "cell_type": "code",
   "execution_count": 6,
   "metadata": {},
   "outputs": [],
   "source": [
    "def mean_via_rounds(margin, round_quantiles):\n",
    "    \"\"\"For a given list of round sizes, specified by a list of quantiles,\n",
    "    return the average number of ballots audited, as both a raw number\n",
    "    and as a multiple of the mean value for auditing with rounds of size 1.\n",
    "\n",
    "    FIXME: incorporate cost of final escallation to full hand count,\n",
    "       adding a parameter for total number of ballots\n",
    "    \"\"\"\n",
    "    last_q = 0\n",
    "    total = 0.0\n",
    "    for q in round_quantiles:\n",
    "        total += (q - last_q) / 100 * quantiles[margin][q]\n",
    "        last_q = q\n",
    "    return (total, total / quantiles[margin]['asn'])"
   ]
  },
  {
   "cell_type": "code",
   "execution_count": 7,
   "metadata": {},
   "outputs": [
    {
     "name": "stdout",
     "output_type": "stream",
     "text": [
      "Normalized: 1.398, ballots: 64498 for round schedule [50, 75, 90, 99]\n",
      "Normalized: 1.672, ballots: 77144 for round schedule [75, 90, 99]\n",
      "Normalized: 1.707, ballots: 78783 for round schedule [25, 50, 75, 99]\n",
      "Normalized: 1.844, ballots: 85106 for round schedule [25, 75, 99]\n",
      "Normalized: 2.298, ballots: 106074 for round schedule [90, 99]\n"
     ]
    }
   ],
   "source": [
    "for roundqs in [\n",
    "    [50, 75, 90, 99],\n",
    "    [75, 90, 99],\n",
    "    [25, 50, 75, 99],\n",
    "    [25, 75, 99],\n",
    "    [90, 99]]:\n",
    "    ballots, excess = mean_via_rounds(margin, roundqs)\n",
    "    print(\"Normalized: %.3f, ballots: %d for round schedule %s\" % (excess, ballots, roundqs))"
   ]
  }
 ],
 "metadata": {
  "kernelspec": {
   "display_name": "Python 3",
   "language": "python",
   "name": "python3"
  },
  "language_info": {
   "name": ""
  }
 },
 "nbformat": 4,
 "nbformat_minor": 2
}
